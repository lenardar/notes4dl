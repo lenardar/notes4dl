{
 "cells": [
  {
   "cell_type": "markdown",
   "id": "3b14a2a4",
   "metadata": {},
   "source": [
    "学习卷积神经网络～"
   ]
  },
  {
   "cell_type": "markdown",
   "id": "6ec46970",
   "metadata": {},
   "source": [
    "# 图像卷积"
   ]
  },
  {
   "cell_type": "code",
   "execution_count": 1,
   "id": "eacf8d48",
   "metadata": {},
   "outputs": [],
   "source": [
    "import torch\n",
    "from torch import nn\n",
    "\n",
    "def corr2d(X, K):  #@save\n",
    "    \"\"\"计算二维互相关运算\"\"\"\n",
    "    h, w = K.shape\n",
    "    Y = torch.zeros((X.shape[0] - h + 1, X.shape[1] - w + 1))\n",
    "    for i in range(Y.shape[0]):\n",
    "        for j in range(Y.shape[1]):\n",
    "            Y[i, j] = (X[i:i + h, j:j + w] * K).sum()\n",
    "    return Y"
   ]
  },
  {
   "cell_type": "code",
   "execution_count": null,
   "id": "e2f13b7f",
   "metadata": {},
   "outputs": [
    {
     "data": {
      "text/plain": [
       "tensor([[19., 25.],\n",
       "        [37., 43.]])"
      ]
     },
     "execution_count": 2,
     "metadata": {},
     "output_type": "execute_result"
    }
   ],
   "source": [
    "X = torch.tensor([[0.0, 1.0, 2.0], [3.0, 4.0, 5.0], [6.0, 7.0, 8.0]])\n",
    "K = torch.tensor([[0.0, 1.0], [2.0, 3.0]])\n",
    "corr2d(X, K)\n",
    "\n",
    "# tensor([[19., 25.],\n",
    "#         [37., 43.]])"
   ]
  },
  {
   "cell_type": "code",
   "execution_count": 3,
   "id": "3e4a9467",
   "metadata": {},
   "outputs": [],
   "source": [
    "class Conv2D(nn.Module):\n",
    "    \"\"\"二维卷积层\"\"\"\n",
    "    def __init__(self, kernel_size):\n",
    "        super(Conv2D, self).å__init__()\n",
    "        self.weight = nn.Parameter(torch.rand(kernel_size))\n",
    "        self.bias = nn.Parameter(torch.zeros(1))\n",
    "\n",
    "    def forward(self, X):\n",
    "        return corr2d(X, self.weight) + self.bias"
   ]
  },
  {
   "cell_type": "code",
   "execution_count": null,
   "id": "9f175301",
   "metadata": {},
   "outputs": [
    {
     "data": {
      "text/plain": [
       "tensor([[1., 1., 0., 0., 0., 0., 1., 1.],\n",
       "        [1., 1., 0., 0., 0., 0., 1., 1.],\n",
       "        [1., 1., 0., 0., 0., 0., 1., 1.],\n",
       "        [1., 1., 0., 0., 0., 0., 1., 1.],\n",
       "        [1., 1., 0., 0., 0., 0., 1., 1.],\n",
       "        [1., 1., 0., 0., 0., 0., 1., 1.]])"
      ]
     },
     "execution_count": 5,
     "metadata": {},
     "output_type": "execute_result"
    }
   ],
   "source": [
    "X = torch.ones((6, 8))\n",
    "X[:, 2:6] = 0\n",
    "X\n",
    "\n",
    "# tensor([[1., 1., 0., 0., 0., 0., 1., 1.],\n",
    "#         [1., 1., 0., 0., 0., 0., 1., 1.],\n",
    "#         [1., 1., 0., 0., 0., 0., 1., 1.],\n",
    "#         [1., 1., 0., 0., 0., 0., 1., 1.],\n",
    "#         [1., 1., 0., 0., 0., 0., 1., 1.],\n",
    "#         [1., 1., 0., 0., 0., 0., 1., 1.]])"
   ]
  },
  {
   "cell_type": "code",
   "execution_count": 6,
   "id": "f063d72c",
   "metadata": {},
   "outputs": [],
   "source": [
    "K = torch.tensor([[1.0, -1.0]])"
   ]
  },
  {
   "cell_type": "code",
   "execution_count": null,
   "id": "46012ad0",
   "metadata": {},
   "outputs": [
    {
     "data": {
      "text/plain": [
       "tensor([[ 0.,  1.,  0.,  0.,  0., -1.,  0.],\n",
       "        [ 0.,  1.,  0.,  0.,  0., -1.,  0.],\n",
       "        [ 0.,  1.,  0.,  0.,  0., -1.,  0.],\n",
       "        [ 0.,  1.,  0.,  0.,  0., -1.,  0.],\n",
       "        [ 0.,  1.,  0.,  0.,  0., -1.,  0.],\n",
       "        [ 0.,  1.,  0.,  0.,  0., -1.,  0.]])"
      ]
     },
     "execution_count": 8,
     "metadata": {},
     "output_type": "execute_result"
    }
   ],
   "source": [
    "Y = corr2d(X, K)\n",
    "Y\n",
    "\n",
    "# tensor([[ 0.,  1.,  0.,  0.,  0., -1.,  0.],\n",
    "#         [ 0.,  1.,  0.,  0.,  0., -1.,  0.],\n",
    "#         [ 0.,  1.,  0.,  0.,  0., -1.,  0.],\n",
    "#         [ 0.,  1.,  0.,  0.,  0., -1.,  0.],\n",
    "#         [ 0.,  1.,  0.,  0.,  0., -1.,  0.],\n",
    "#         [ 0.,  1.,  0.,  0.,  0., -1.,  0.]])"
   ]
  },
  {
   "cell_type": "code",
   "execution_count": null,
   "id": "53da3321",
   "metadata": {},
   "outputs": [
    {
     "data": {
      "text/plain": [
       "tensor([[0., 0., 0., 0., 0.],\n",
       "        [0., 0., 0., 0., 0.],\n",
       "        [0., 0., 0., 0., 0.],\n",
       "        [0., 0., 0., 0., 0.],\n",
       "        [0., 0., 0., 0., 0.],\n",
       "        [0., 0., 0., 0., 0.],\n",
       "        [0., 0., 0., 0., 0.],\n",
       "        [0., 0., 0., 0., 0.]])"
      ]
     },
     "execution_count": 9,
     "metadata": {},
     "output_type": "execute_result"
    }
   ],
   "source": [
    "corr2d(X.t(), K)\n",
    "\n",
    "# tensor([[0., 0., 0., 0., 0.],\n",
    "#         [0., 0., 0., 0., 0.],\n",
    "#         [0., 0., 0., 0., 0.],\n",
    "#         [0., 0., 0., 0., 0.],\n",
    "#         [0., 0., 0., 0., 0.],\n",
    "#         [0., 0., 0., 0., 0.],\n",
    "#         [0., 0., 0., 0., 0.],\n",
    "#         [0., 0., 0., 0., 0.]])"
   ]
  },
  {
   "cell_type": "code",
   "execution_count": null,
   "id": "d631a2f8",
   "metadata": {},
   "outputs": [
    {
     "name": "stdout",
     "output_type": "stream",
     "text": [
      "epoch 2, loss 9.240\n",
      "epoch 4, loss 1.559\n",
      "epoch 6, loss 0.265\n",
      "epoch 8, loss 0.046\n",
      "epoch 10, loss 0.008\n"
     ]
    }
   ],
   "source": [
    "# 构造一个二维卷积层，它具有1个输出通道和形状为（1，2）的卷积核\n",
    "conv2d = nn.Conv2d(1,1, kernel_size=(1, 2), bias=False)\n",
    "\n",
    "# 这个二维卷积层使用四维输入和输出格式（批量大小、通道、高度、宽度），\n",
    "# 其中批量大小和通道数都为1\n",
    "X = X.reshape((1, 1, 6, 8))\n",
    "Y = Y.reshape((1, 1, 6, 7))\n",
    "lr = 3e-2  # 学习率\n",
    "\n",
    "for i in range(10):\n",
    "    Y_hat = conv2d(X)\n",
    "    l = (Y_hat - Y) ** 2\n",
    "    conv2d.zero_grad()\n",
    "    l.sum().backward()\n",
    "    # 迭代卷积核\n",
    "    conv2d.weight.data[:] -= lr * conv2d.weight.grad\n",
    "    if (i + 1) % 2 == 0:\n",
    "        print(f'epoch {i+1}, loss {l.sum():.3f}')\n",
    "\n",
    "# epoch 2, loss 9.240\n",
    "# epoch 4, loss 1.559\n",
    "# epoch 6, loss 0.265\n",
    "# epoch 8, loss 0.046\n",
    "# epoch 10, loss 0.008"
   ]
  },
  {
   "cell_type": "code",
   "execution_count": null,
   "id": "ac282a92",
   "metadata": {},
   "outputs": [
    {
     "data": {
      "text/plain": [
       "tensor([[ 0.9810, -0.9875]])"
      ]
     },
     "execution_count": 11,
     "metadata": {},
     "output_type": "execute_result"
    }
   ],
   "source": [
    "conv2d.weight.data.reshape((1, 2))\n",
    "\n",
    "# tensor([[ 0.9810, -0.9875]])"
   ]
  },
  {
   "cell_type": "markdown",
   "id": "04414531",
   "metadata": {},
   "source": [
    "# 填充和步幅"
   ]
  },
  {
   "cell_type": "code",
   "execution_count": null,
   "id": "71bcdc7b",
   "metadata": {},
   "outputs": [
    {
     "data": {
      "text/plain": [
       "torch.Size([8, 8])"
      ]
     },
     "execution_count": 12,
     "metadata": {},
     "output_type": "execute_result"
    }
   ],
   "source": [
    "import torch\n",
    "from torch import nn\n",
    "\n",
    "\n",
    "# 为了方便起见，我们定义了一个计算卷积层的函数。\n",
    "# 此函数初始化卷积层权重，并对输入和输出提高和缩减相应的维数\n",
    "def comp_conv2d(conv2d, X):\n",
    "    # 这里的（1，1）表示批量大小和通道数都是1\n",
    "    X = X.reshape((1, 1) + X.shape)\n",
    "    Y = conv2d(X)\n",
    "    # 省略前两个维度：批量大小和通道\n",
    "    return Y.reshape(Y.shape[2:])\n",
    "\n",
    "# 请注意，这里每边都填充了1行或1列，因此总共添加了2行或2列\n",
    "conv2d = nn.Conv2d(1, 1, kernel_size=3, padding=1)\n",
    "X = torch.rand(size=(8, 8))\n",
    "comp_conv2d(conv2d, X).shape\n",
    "\n",
    "# torch.Size([8, 8])"
   ]
  },
  {
   "cell_type": "code",
   "execution_count": null,
   "id": "480ab7d8",
   "metadata": {},
   "outputs": [
    {
     "data": {
      "text/plain": [
       "torch.Size([8, 8])"
      ]
     },
     "execution_count": 13,
     "metadata": {},
     "output_type": "execute_result"
    }
   ],
   "source": [
    "conv2d = nn.Conv2d(1, 1, kernel_size=(5, 3), padding=(2, 1))\n",
    "comp_conv2d(conv2d, X).shape\n",
    "\n",
    "# torch.Size([8, 8])"
   ]
  },
  {
   "cell_type": "code",
   "execution_count": null,
   "id": "f7ab6ce8",
   "metadata": {},
   "outputs": [
    {
     "data": {
      "text/plain": [
       "torch.Size([4, 4])"
      ]
     },
     "execution_count": 14,
     "metadata": {},
     "output_type": "execute_result"
    }
   ],
   "source": [
    "conv2d = nn.Conv2d(1, 1, kernel_size=3, padding=1, stride=2)\n",
    "comp_conv2d(conv2d, X).shape\n",
    "\n",
    "# torch.Size([4, 4])"
   ]
  },
  {
   "cell_type": "code",
   "execution_count": null,
   "id": "3bb429a5",
   "metadata": {},
   "outputs": [
    {
     "data": {
      "text/plain": [
       "torch.Size([2, 2])"
      ]
     },
     "execution_count": 15,
     "metadata": {},
     "output_type": "execute_result"
    }
   ],
   "source": [
    "conv2d = nn.Conv2d(1, 1, kernel_size=(3, 5), padding=(0, 1), stride=(3, 4))\n",
    "comp_conv2d(conv2d, X).shape\n",
    "\n",
    "# torch.Size([2, 2])"
   ]
  },
  {
   "cell_type": "markdown",
   "id": "f05313a9",
   "metadata": {},
   "source": [
    "# 多输入多输出通道"
   ]
  },
  {
   "cell_type": "code",
   "execution_count": 1,
   "id": "b78dc538",
   "metadata": {},
   "outputs": [],
   "source": [
    "import torch\n",
    "from d2l import torch as d2l\n",
    "\n",
    "def corr2d_multi_in(X, K):\n",
    "    # 先遍历“X”和“K”的第0个维度（通道维度），再把它们加在一起\n",
    "    return sum(d2l.corr2d(x, k) for x, k in zip(X, K))"
   ]
  },
  {
   "cell_type": "code",
   "execution_count": 2,
   "id": "69fb4756",
   "metadata": {},
   "outputs": [],
   "source": [
    "K = torch.tensor([[[0.0, 1.0], [2.0, 3.0]], [[1.0, 2.0], [3.0, 4.0]]])"
   ]
  },
  {
   "cell_type": "code",
   "execution_count": 3,
   "id": "7b33badf",
   "metadata": {},
   "outputs": [
    {
     "name": "stdout",
     "output_type": "stream",
     "text": [
      "tensor([[0., 1.],\n",
      "        [2., 3.]])\n",
      "tensor([[1., 2.],\n",
      "        [3., 4.]])\n"
     ]
    }
   ],
   "source": [
    "for i in K:\n",
    "    print(i)"
   ]
  },
  {
   "cell_type": "code",
   "execution_count": 4,
   "id": "0fbae809",
   "metadata": {},
   "outputs": [
    {
     "data": {
      "text/plain": [
       "tensor([[ 56.,  72.],\n",
       "        [104., 120.]])"
      ]
     },
     "execution_count": 4,
     "metadata": {},
     "output_type": "execute_result"
    }
   ],
   "source": [
    "X = torch.tensor([[[0.0, 1.0, 2.0], [3.0, 4.0, 5.0], [6.0, 7.0, 8.0]],\n",
    "               [[1.0, 2.0, 3.0], [4.0, 5.0, 6.0], [7.0, 8.0, 9.0]]])\n",
    "K = torch.tensor([[[0.0, 1.0], [2.0, 3.0]], [[1.0, 2.0], [3.0, 4.0]]])\n",
    "\n",
    "corr2d_multi_in(X, K)\n",
    "\n",
    "# tensor([[ 56.,  72.],\n",
    "#         [104., 120.]])"
   ]
  },
  {
   "cell_type": "code",
   "execution_count": 5,
   "id": "d4989bb9",
   "metadata": {},
   "outputs": [],
   "source": [
    "def corr2d_multi_in_out(X, K):\n",
    "    # 迭代“K”的第0个维度，每次都对输入“X”执行互相关运算。\n",
    "    # 最后将所有结果都叠加在一起\n",
    "    return torch.stack([corr2d_multi_in(X, k) for k in K], 0)"
   ]
  },
  {
   "cell_type": "code",
   "execution_count": 6,
   "id": "a5eb7a92",
   "metadata": {},
   "outputs": [
    {
     "data": {
      "text/plain": [
       "torch.Size([3, 2, 2, 2])"
      ]
     },
     "execution_count": 6,
     "metadata": {},
     "output_type": "execute_result"
    }
   ],
   "source": [
    "K = torch.stack((K, K + 1, K + 2), 0)\n",
    "K.shape\n",
    "\n",
    "# torch.Size([3, 2, 2, 2])"
   ]
  },
  {
   "cell_type": "code",
   "execution_count": 7,
   "id": "bff16297",
   "metadata": {},
   "outputs": [
    {
     "name": "stdout",
     "output_type": "stream",
     "text": [
      "tensor([[[[0., 1.],\n",
      "          [2., 3.]],\n",
      "\n",
      "         [[1., 2.],\n",
      "          [3., 4.]]],\n",
      "\n",
      "\n",
      "        [[[1., 2.],\n",
      "          [3., 4.]],\n",
      "\n",
      "         [[2., 3.],\n",
      "          [4., 5.]]],\n",
      "\n",
      "\n",
      "        [[[2., 3.],\n",
      "          [4., 5.]],\n",
      "\n",
      "         [[3., 4.],\n",
      "          [5., 6.]]]])\n"
     ]
    }
   ],
   "source": [
    "print(K)"
   ]
  },
  {
   "cell_type": "code",
   "execution_count": 9,
   "id": "ba3c0925",
   "metadata": {},
   "outputs": [
    {
     "data": {
      "text/plain": [
       "tensor([[[ 56.,  72.],\n",
       "         [104., 120.]],\n",
       "\n",
       "        [[ 76., 100.],\n",
       "         [148., 172.]],\n",
       "\n",
       "        [[ 96., 128.],\n",
       "         [192., 224.]]])"
      ]
     },
     "execution_count": 9,
     "metadata": {},
     "output_type": "execute_result"
    }
   ],
   "source": [
    "corr2d_multi_in_out(X, K)\n",
    "\n",
    "# tensor([[[ 56.,  72.],\n",
    "#          [104., 120.]],\n",
    "\n",
    "#         [[ 76., 100.],\n",
    "#          [148., 172.]],\n",
    "\n",
    "#         [[ 96., 128.],\n",
    "#          [192., 224.]]])"
   ]
  },
  {
   "cell_type": "code",
   "execution_count": 10,
   "id": "dbc55390",
   "metadata": {},
   "outputs": [],
   "source": [
    "def corr2d_multi_in_out_1x1(X, K):\n",
    "    c_i, h, w = X.shape\n",
    "    c_o = K.shape[0]\n",
    "    X = X.reshape((c_i, h * w))\n",
    "    K = K.reshape((c_o, c_i))\n",
    "    # 全连接层中的矩阵乘法\n",
    "    Y = torch.matmul(K, X)\n",
    "    return Y.reshape((c_o, h, w))"
   ]
  },
  {
   "cell_type": "code",
   "execution_count": 11,
   "id": "2d0be6f7",
   "metadata": {},
   "outputs": [],
   "source": [
    "X = torch.normal(0, 1, (3, 3, 3))\n",
    "K = torch.normal(0, 1, (2, 3, 1, 1))\n",
    "\n",
    "Y1 = corr2d_multi_in_out_1x1(X, K)\n",
    "Y2 = corr2d_multi_in_out(X, K)\n",
    "assert float(torch.abs(Y1 - Y2).sum()) < 1e-6"
   ]
  },
  {
   "cell_type": "markdown",
   "id": "aa14ae17",
   "metadata": {},
   "source": [
    "# 汇聚层"
   ]
  },
  {
   "cell_type": "code",
   "execution_count": 12,
   "id": "5ff7c6be",
   "metadata": {},
   "outputs": [],
   "source": [
    "import torch\n",
    "from torch import nn\n",
    "from d2l import torch as d2l\n",
    "\n",
    "def pool2d(X, pool_size, mode='max'):\n",
    "    p_h, p_w = pool_size\n",
    "    Y = torch.zeros((X.shape[0] - p_h + 1, X.shape[1] - p_w + 1))\n",
    "    for i in range(Y.shape[0]):\n",
    "        for j in range(Y.shape[1]):\n",
    "            if mode == 'max':\n",
    "                Y[i, j] = X[i: i + p_h, j: j + p_w].max()\n",
    "            elif mode == 'avg':\n",
    "                Y[i, j] = X[i: i + p_h, j: j + p_w].mean()\n",
    "    return Y"
   ]
  },
  {
   "cell_type": "code",
   "execution_count": 13,
   "id": "0a981538",
   "metadata": {},
   "outputs": [
    {
     "data": {
      "text/plain": [
       "tensor([[4., 5.],\n",
       "        [7., 8.]])"
      ]
     },
     "execution_count": 13,
     "metadata": {},
     "output_type": "execute_result"
    }
   ],
   "source": [
    "X = torch.tensor([[0.0, 1.0, 2.0], [3.0, 4.0, 5.0], [6.0, 7.0, 8.0]])\n",
    "pool2d(X, (2, 2))\n",
    "\n",
    "# tensor([[4., 5.],\n",
    "#         [7., 8.]])"
   ]
  },
  {
   "cell_type": "code",
   "execution_count": 14,
   "id": "c8a663b8",
   "metadata": {},
   "outputs": [
    {
     "data": {
      "text/plain": [
       "tensor([[2., 3.],\n",
       "        [5., 6.]])"
      ]
     },
     "execution_count": 14,
     "metadata": {},
     "output_type": "execute_result"
    }
   ],
   "source": [
    "pool2d(X, (2, 2), 'avg')\n",
    "\n",
    "# tensor([[2., 3.],\n",
    "#         [5., 6.]])"
   ]
  },
  {
   "cell_type": "code",
   "execution_count": 15,
   "id": "8f5c3bb3",
   "metadata": {},
   "outputs": [
    {
     "data": {
      "text/plain": [
       "tensor([[[[ 0.,  1.,  2.,  3.],\n",
       "          [ 4.,  5.,  6.,  7.],\n",
       "          [ 8.,  9., 10., 11.],\n",
       "          [12., 13., 14., 15.]]]])"
      ]
     },
     "execution_count": 15,
     "metadata": {},
     "output_type": "execute_result"
    }
   ],
   "source": [
    "X = torch.arange(16, dtype=torch.float32).reshape((1, 1, 4, 4))\n",
    "X\n",
    "\n",
    "# tensor([[[[ 0.,  1.,  2.,  3.],\n",
    "#           [ 4.,  5.,  6.,  7.],\n",
    "#           [ 8.,  9., 10., 11.],\n",
    "#           [12., 13., 14., 15.]]]])"
   ]
  },
  {
   "cell_type": "code",
   "execution_count": 16,
   "id": "4511b42a",
   "metadata": {},
   "outputs": [
    {
     "data": {
      "text/plain": [
       "tensor([[[[10.]]]])"
      ]
     },
     "execution_count": 16,
     "metadata": {},
     "output_type": "execute_result"
    }
   ],
   "source": [
    "pool2d = nn.MaxPool2d(3)\n",
    "pool2d(X)\n",
    "\n",
    "# tensor([[[[10.]]]])"
   ]
  },
  {
   "cell_type": "code",
   "execution_count": 17,
   "id": "a84bebad",
   "metadata": {},
   "outputs": [
    {
     "data": {
      "text/plain": [
       "tensor([[[[ 5.,  7.],\n",
       "          [13., 15.]]]])"
      ]
     },
     "execution_count": 17,
     "metadata": {},
     "output_type": "execute_result"
    }
   ],
   "source": [
    "pool2d = nn.MaxPool2d(3, padding=1, stride=2)\n",
    "pool2d(X)\n",
    "\n",
    "# tensor([[[[ 5.,  7.],\n",
    "#           [13., 15.]]]])"
   ]
  },
  {
   "cell_type": "code",
   "execution_count": 18,
   "id": "39cf4e6f",
   "metadata": {},
   "outputs": [
    {
     "data": {
      "text/plain": [
       "tensor([[[[ 5.,  7.],\n",
       "          [13., 15.]]]])"
      ]
     },
     "execution_count": 18,
     "metadata": {},
     "output_type": "execute_result"
    }
   ],
   "source": [
    "pool2d = nn.MaxPool2d(2)\n",
    "pool2d(X)"
   ]
  },
  {
   "cell_type": "code",
   "execution_count": 19,
   "id": "05b01e06",
   "metadata": {},
   "outputs": [
    {
     "data": {
      "text/plain": [
       "tensor([[[[ 5.,  7.],\n",
       "          [13., 15.]]]])"
      ]
     },
     "execution_count": 19,
     "metadata": {},
     "output_type": "execute_result"
    }
   ],
   "source": [
    "pool2d = nn.MaxPool2d((2, 3), stride=(2, 3), padding=(0, 1))\n",
    "pool2d(X)\n",
    "\n",
    "# tensor([[[[ 5.,  7.],\n",
    "#           [13., 15.]]]])"
   ]
  },
  {
   "cell_type": "code",
   "execution_count": 20,
   "id": "6139f0a1",
   "metadata": {},
   "outputs": [
    {
     "data": {
      "text/plain": [
       "tensor([[[[ 0.,  1.,  2.,  3.],\n",
       "          [ 4.,  5.,  6.,  7.],\n",
       "          [ 8.,  9., 10., 11.],\n",
       "          [12., 13., 14., 15.]],\n",
       "\n",
       "         [[ 1.,  2.,  3.,  4.],\n",
       "          [ 5.,  6.,  7.,  8.],\n",
       "          [ 9., 10., 11., 12.],\n",
       "          [13., 14., 15., 16.]]]])"
      ]
     },
     "execution_count": 20,
     "metadata": {},
     "output_type": "execute_result"
    }
   ],
   "source": [
    "X = torch.cat((X, X + 1), 1)\n",
    "X\n",
    "\n",
    "# tensor([[[[ 0.,  1.,  2.,  3.],\n",
    "#           [ 4.,  5.,  6.,  7.],\n",
    "#           [ 8.,  9., 10., 11.],\n",
    "#           [12., 13., 14., 15.]],\n",
    "\n",
    "#          [[ 1.,  2.,  3.,  4.],\n",
    "#           [ 5.,  6.,  7.,  8.],\n",
    "#           [ 9., 10., 11., 12.],\n",
    "#           [13., 14., 15., 16.]]]])"
   ]
  },
  {
   "cell_type": "code",
   "execution_count": 22,
   "id": "1cf33717",
   "metadata": {},
   "outputs": [
    {
     "data": {
      "text/plain": [
       "torch.Size([1, 2, 4, 4])"
      ]
     },
     "execution_count": 22,
     "metadata": {},
     "output_type": "execute_result"
    }
   ],
   "source": [
    "X.shape"
   ]
  },
  {
   "cell_type": "code",
   "execution_count": 21,
   "id": "427b70be",
   "metadata": {},
   "outputs": [
    {
     "data": {
      "text/plain": [
       "(torch.Size([2, 2, 4, 4]), torch.Size([1, 4, 4, 4]))"
      ]
     },
     "execution_count": 21,
     "metadata": {},
     "output_type": "execute_result"
    }
   ],
   "source": [
    "torch.cat((X, X + 1), 0).shape, torch.cat((X, X + 1), 1).shape\n",
    "\n"
   ]
  },
  {
   "cell_type": "code",
   "execution_count": 23,
   "id": "2457b2e3",
   "metadata": {},
   "outputs": [
    {
     "data": {
      "text/plain": [
       "tensor([[[[ 5.,  7.],\n",
       "          [13., 15.]],\n",
       "\n",
       "         [[ 6.,  8.],\n",
       "          [14., 16.]]]])"
      ]
     },
     "execution_count": 23,
     "metadata": {},
     "output_type": "execute_result"
    }
   ],
   "source": [
    "pool2d = nn.MaxPool2d(3, padding=1, stride=2)\n",
    "pool2d(X)\n",
    "\n",
    "# tensor([[[[ 5.,  7.],\n",
    "#           [13., 15.]],\n",
    "\n",
    "#          [[ 6.,  8.],\n",
    "#           [14., 16.]]]])"
   ]
  },
  {
   "cell_type": "markdown",
   "id": "f3010868",
   "metadata": {},
   "source": [
    "# LeNet"
   ]
  },
  {
   "cell_type": "code",
   "execution_count": 25,
   "id": "d6e80fa4",
   "metadata": {},
   "outputs": [],
   "source": [
    "import torch\n",
    "from torch import nn\n",
    "\n",
    "net = nn.Sequential(\n",
    "    # 第1个卷积块\n",
    "    nn.Conv2d(1, 6, kernel_size=5, padding=2),  # 卷积层\n",
    "    nn.Sigmoid(),  # 激活函数\n",
    "    nn.AvgPool2d(kernel_size=2, stride=2),  # 平均池化层\n",
    "\n",
    "    # 第2个卷积块\n",
    "    nn.Conv2d(6, 16, kernel_size=5),  # 卷积层\n",
    "    nn.Sigmoid(),  # 激活函数\n",
    "    nn.AvgPool2d(kernel_size=2, stride=2),  # 平均池化层\n",
    "\n",
    "    # 线性网络\n",
    "    nn.Flatten(),  # 展平层\n",
    "    nn.Linear(16 * 5 * 5, 120),  # 全连接\n",
    "    nn.Sigmoid(),  # 激活函数\n",
    "    nn.Linear(120, 84),  # 全连接\n",
    "    nn.Sigmoid(),  # 激活函数\n",
    "    nn.Linear(84, 10)  # 全连接\n",
    ")"
   ]
  },
  {
   "cell_type": "code",
   "execution_count": 26,
   "id": "bd2aedb9",
   "metadata": {},
   "outputs": [
    {
     "name": "stdout",
     "output_type": "stream",
     "text": [
      "Conv2d output shape: \t torch.Size([1, 6, 28, 28])\n",
      "Sigmoid output shape: \t torch.Size([1, 6, 28, 28])\n",
      "AvgPool2d output shape: \t torch.Size([1, 6, 14, 14])\n",
      "Conv2d output shape: \t torch.Size([1, 16, 10, 10])\n",
      "Sigmoid output shape: \t torch.Size([1, 16, 10, 10])\n",
      "AvgPool2d output shape: \t torch.Size([1, 16, 5, 5])\n",
      "Flatten output shape: \t torch.Size([1, 400])\n",
      "Linear output shape: \t torch.Size([1, 120])\n",
      "Sigmoid output shape: \t torch.Size([1, 120])\n",
      "Linear output shape: \t torch.Size([1, 84])\n",
      "Sigmoid output shape: \t torch.Size([1, 84])\n",
      "Linear output shape: \t torch.Size([1, 10])\n"
     ]
    }
   ],
   "source": [
    "X = torch.rand(size=(1, 1, 28, 28), dtype=torch.float32)\n",
    "for layer in net:\n",
    "    X = layer(X)\n",
    "    print(layer.__class__.__name__,'output shape: \\t',X.shape)\n",
    "\n",
    "# Conv2d output shape: \t torch.Size([1, 6, 28, 28])\n",
    "# Sigmoid output shape: \t torch.Size([1, 6, 28, 28])\n",
    "# AvgPool2d output shape: \t torch.Size([1, 6, 14, 14])\n",
    "# Conv2d output shape: \t torch.Size([1, 16, 10, 10])\n",
    "# Sigmoid output shape: \t torch.Size([1, 16, 10, 10])\n",
    "# AvgPool2d output shape: \t torch.Size([1, 16, 5, 5])\n",
    "# Flatten output shape: \t torch.Size([1, 400])\n",
    "# Linear output shape: \t torch.Size([1, 120])\n",
    "# Sigmoid output shape: \t torch.Size([1, 120])\n",
    "# Linear output shape: \t torch.Size([1, 84])\n",
    "# Sigmoid output shape: \t torch.Size([1, 84])\n",
    "# Linear output shape: \t torch.Size([1, 10])"
   ]
  },
  {
   "cell_type": "code",
   "execution_count": 27,
   "id": "056c59ca",
   "metadata": {},
   "outputs": [],
   "source": [
    "# 读取Fashion-MNIST数据集\n",
    "batch_size = 256\n",
    "\n",
    "import torchvision\n",
    "from torchvision import transforms\n",
    "trans = transforms.ToTensor()\n",
    "mnist_train = torchvision.datasets.FashionMNIST(\n",
    "    root=\"./data\", train=True, transform=trans, download=True)\n",
    "mnist_test = torchvision.datasets.FashionMNIST(\n",
    "    root=\"./data\", train=False, transform=trans, download=True)\n",
    "train_iter = torch.utils.data.DataLoader(\n",
    "    mnist_train, batch_size=batch_size, shuffle=True)\n",
    "test_iter = torch.utils.data.DataLoader(\n",
    "    mnist_test, batch_size=batch_size, shuffle=False)"
   ]
  },
  {
   "cell_type": "code",
   "execution_count": 28,
   "id": "ab5a5cb3",
   "metadata": {},
   "outputs": [
    {
     "data": {
      "text/plain": [
       "True"
      ]
     },
     "execution_count": 28,
     "metadata": {},
     "output_type": "execute_result"
    }
   ],
   "source": [
    "# 检查加速器mps\n",
    "torch.backends.mps.is_available()"
   ]
  },
  {
   "cell_type": "code",
   "execution_count": 35,
   "id": "13eddec7",
   "metadata": {},
   "outputs": [
    {
     "name": "stdout",
     "output_type": "stream",
     "text": [
      "epoch 1, loss 2.304, train acc 0.100, test acc 0.100\n",
      "epoch 2, loss 2.303, train acc 0.100, test acc 0.100\n",
      "epoch 3, loss 2.128, train acc 0.584, test acc 0.579\n",
      "epoch 4, loss 1.835, train acc 0.695, test acc 0.686\n",
      "epoch 5, loss 1.760, train acc 0.716, test acc 0.702\n",
      "epoch 6, loss 1.686, train acc 0.803, test acc 0.788\n",
      "epoch 7, loss 1.653, train acc 0.800, test acc 0.786\n",
      "epoch 8, loss 1.640, train acc 0.823, test acc 0.808\n",
      "epoch 9, loss 1.627, train acc 0.843, test acc 0.832\n",
      "epoch 10, loss 1.621, train acc 0.853, test acc 0.835\n"
     ]
    },
    {
     "data": {
      "image/png": "[encoded data removed]",
      "text/plain": [
       "<Figure size 640x480 with 1 Axes>"
      ]
     },
     "metadata": {},
     "output_type": "display_data"
    }
   ],
   "source": [
    "# 加载必要的库\n",
    "import torch\n",
    "from torch import nn\n",
    "\n",
    "# 加入softmax层\n",
    "net = nn.Sequential(\n",
    "    # 第1个卷积块\n",
    "    nn.Conv2d(1, 6, kernel_size=5, padding=2),  # 卷积层\n",
    "    nn.Sigmoid(),  # 激活函数\n",
    "    nn.AvgPool2d(kernel_size=2, stride=2),  # 平均池化层\n",
    "\n",
    "    # 第2个卷积块\n",
    "    nn.Conv2d(6, 16, kernel_size=5),  # 卷积层\n",
    "    nn.Sigmoid(),  # 激活函数\n",
    "    nn.AvgPool2d(kernel_size=2, stride=2),  # 平均池化层\n",
    "\n",
    "    # 线性网络\n",
    "    nn.Flatten(),  # 展平层\n",
    "    nn.Linear(16 * 5 * 5, 120),  # 全连接\n",
    "    nn.Sigmoid(),  # 激活函数\n",
    "    nn.Linear(120, 84),  # 全连接\n",
    "    nn.Sigmoid(),  # 激活函数\n",
    "    nn.Linear(84, 10),  # 全连接\n",
    "\n",
    "    # softmax输出层\n",
    "    nn.Softmax(dim=1)  # softmax层\n",
    ")\n",
    "\n",
    "# 定义准确率计算函数\n",
    "def evaluate_accuracy(data_iter, net, device=None):\n",
    "    \"\"\"使用GPU计算模型在数据集上的精度\"\"\"\n",
    "    if isinstance(net, nn.Module):\n",
    "        net.eval()  # 设置为评估模式\n",
    "        if not device:\n",
    "            device = next(iter(net.parameters())).device\n",
    "    \n",
    "    # 定义正确预测的数量和总样本数\n",
    "    accury_sum, n = 0, 0\n",
    "    with torch.no_grad():\n",
    "        for X, y in data_iter:\n",
    "            if isinstance(X, list):\n",
    "                # 如果X是一个列表，则将其转换为张量\n",
    "                X = [x.to(device) for x in X]\n",
    "            else:\n",
    "                X = X.to(device)\n",
    "            y = y.to(device)\n",
    "            # 计算预测结果\n",
    "            y_hat = net(X)\n",
    "            # 累加正确预测的数量\n",
    "            accury_sum += (y_hat.argmax(dim=1) == y).sum().item()\n",
    "            n += y.shape[0]\n",
    "    return accury_sum / n  # 返回精度\n",
    "\n",
    "# 计算训练集和测试集的精度，训练集损失函数\n",
    "def train_ch6(net, train_iter, test_iter, num_epochs, lr, device=None):\n",
    "    \"\"\"训练模型\"\"\"\n",
    "    # 将模型移动到指定设备\n",
    "    if device is None:\n",
    "        device = torch.device('mps' if torch.backends.mps.is_available() else 'cpu')\n",
    "    net.to(device)  # 将模型移动到设备\n",
    "\n",
    "    # 初始化参数\n",
    "    def init_weights(m):\n",
    "        if type(m) == nn.Linear or type(m) == nn.Conv2d:\n",
    "            nn.init.xavier_uniform_(m.weight)\n",
    "    net.apply(init_weights)\n",
    "\n",
    "    # 定义损失函数和优化器\n",
    "    loss = nn.CrossEntropyLoss(reduction=\"none\")  # 损失函数\n",
    "    optimizer = torch.optim.SGD(net.parameters(), lr=lr)  # 优化器\n",
    "\n",
    "    # 定义列表存储损失函数，训练集精度和测试集精度\n",
    "    train_loss, train_acc, test_acc = [], [], []\n",
    "\n",
    "    # 训练循环\n",
    "    for epoch in range(num_epochs):\n",
    "        net.train()  # 设置为训练模式\n",
    "        train_l_sum, n = 0, 0\n",
    "        for X, y in train_iter:\n",
    "            if isinstance(X, list):\n",
    "                X = [x.to(device) for x in X]\n",
    "            else:\n",
    "                X = X.to(device)\n",
    "            y = y.to(device)\n",
    "\n",
    "            # 前向传播\n",
    "            y_hat = net(X)\n",
    "            l = loss(y_hat, y).sum()  # 计算平均损失\n",
    "            train_l_sum += l.item()\n",
    "            n += y.shape[0]\n",
    "\n",
    "            # 反向传播和优化\n",
    "            optimizer.zero_grad()  # 清零梯度\n",
    "            l.backward()  # 计算梯度\n",
    "            optimizer.step()  # 更新参数\n",
    "\n",
    "        # 计算训练集精度\n",
    "        train_loss.append(train_l_sum / n)\n",
    "\n",
    "        # 计算训练集精度\n",
    "        train_acc.append(evaluate_accuracy(train_iter, net, device))\n",
    "\n",
    "        # 计算测试集精度\n",
    "        test_acc.append(evaluate_accuracy(test_iter, net, device))\n",
    "\n",
    "        print(f'epoch {epoch + 1}, loss {train_loss[-1]:.3f}, '\n",
    "              f'train acc {train_acc[-1]:.3f}, '\n",
    "              f'test acc {test_acc[-1]:.3f}')\n",
    "    \n",
    "    # 使用plt原生图\n",
    "    import matplotlib.pyplot as plt\n",
    "    plt.plot(range(1, num_epochs + 1), train_loss, label='train loss')\n",
    "    plt.plot(range(1, num_epochs + 1), train_acc, label='train acc')\n",
    "    plt.plot(range(1, num_epochs + 1), test_acc, label='test acc')\n",
    "    plt.xlabel('epoch')\n",
    "    plt.ylabel('accuracy')\n",
    "    plt.legend()\n",
    "    plt.show()\n",
    "\n",
    "    return train_loss, train_acc, test_acc\n",
    "\n",
    "# 训练模型\n",
    "num_epochs, lr = 10, 0.1\n",
    "train_loss, train_acc, test_acc = train_ch6(net, train_iter, test_iter, num_epochs, lr)\n",
    "\n",
    "# epoch 1, loss 2.304, train acc 0.100, test acc 0.100\n",
    "# epoch 2, loss 2.303, train acc 0.100, test acc 0.100\n",
    "# epoch 3, loss 2.128, train acc 0.584, test acc 0.579\n",
    "# epoch 4, loss 1.835, train acc 0.695, test acc 0.686\n",
    "# epoch 5, loss 1.760, train acc 0.716, test acc 0.702\n",
    "# epoch 6, loss 1.686, train acc 0.803, test acc 0.788\n",
    "# epoch 7, loss 1.653, train acc 0.800, test acc 0.786\n",
    "# epoch 8, loss 1.640, train acc 0.823, test acc 0.808\n",
    "# epoch 9, loss 1.627, train acc 0.843, test acc 0.832\n",
    "# epoch 10, loss 1.621, train acc 0.853, test acc 0.835"
   ]
  },
  {
   "cell_type": "code",
   "execution_count": 37,
   "id": "5be7107d",
   "metadata": {},
   "outputs": [
    {
     "name": "stdout",
     "output_type": "stream",
     "text": [
      "zsh:1: command not found: nvidia-smi\n"
     ]
    }
   ],
   "source": [
    "!nvidia-smi\n",
    "# zsh:1: command not found: nvidia-smi"
   ]
  },
  {
   "cell_type": "code",
   "execution_count": 38,
   "id": "ed74f9fd",
   "metadata": {},
   "outputs": [
    {
     "data": {
      "text/plain": [
       "device(type='mps')"
      ]
     },
     "execution_count": 38,
     "metadata": {},
     "output_type": "execute_result"
    }
   ],
   "source": [
    "torch.device(\"mps\")"
   ]
  },
  {
   "cell_type": "code",
   "execution_count": 39,
   "id": "d9136b62",
   "metadata": {},
   "outputs": [
    {
     "data": {
      "text/plain": [
       "0"
      ]
     },
     "execution_count": 39,
     "metadata": {},
     "output_type": "execute_result"
    }
   ],
   "source": [
    "torch.cuda.device_count()\n",
    "\n",
    "# 0"
   ]
  },
  {
   "cell_type": "code",
   "execution_count": 40,
   "id": "47b6a2fc",
   "metadata": {},
   "outputs": [
    {
     "data": {
      "text/plain": [
       "1"
      ]
     },
     "execution_count": 40,
     "metadata": {},
     "output_type": "execute_result"
    }
   ],
   "source": [
    "torch.mps.device_count()\n",
    "\n",
    "# 1"
   ]
  },
  {
   "cell_type": "code",
   "execution_count": 41,
   "id": "bb02a993",
   "metadata": {},
   "outputs": [
    {
     "data": {
      "text/plain": [
       "(device(type='cpu'), device(type='cpu'), [device(type='cpu')])"
      ]
     },
     "execution_count": 41,
     "metadata": {},
     "output_type": "execute_result"
    }
   ],
   "source": [
    "def try_gpu(i=0):  #@save\n",
    "    \"\"\"如果存在，则返回gpu(i)，否则返回cpu()\"\"\"\n",
    "    if torch.cuda.device_count() >= i + 1:\n",
    "        return torch.device(f'cuda:{i}')\n",
    "    return torch.device('cpu')\n",
    "\n",
    "def try_all_gpus():  #@save\n",
    "    \"\"\"返回所有可用的GPU，如果没有GPU，则返回[cpu(),]\"\"\"\n",
    "    devices = [torch.device(f'cuda:{i}')\n",
    "             for i in range(torch.cuda.device_count())]\n",
    "    return devices if devices else [torch.device('cpu')]\n",
    "\n",
    "try_gpu(), try_gpu(10), try_all_gpus()"
   ]
  },
  {
   "cell_type": "code",
   "execution_count": 42,
   "id": "a496cd52",
   "metadata": {},
   "outputs": [
    {
     "data": {
      "text/plain": [
       "device(type='cpu')"
      ]
     },
     "execution_count": 42,
     "metadata": {},
     "output_type": "execute_result"
    }
   ],
   "source": [
    "x = torch.tensor([1, 2, 3])\n",
    "x.device\n",
    "\n",
    "# device(type='cpu')"
   ]
  },
  {
   "cell_type": "code",
   "execution_count": 44,
   "id": "87e5347b",
   "metadata": {},
   "outputs": [
    {
     "data": {
      "text/plain": [
       "tensor([[1., 1., 1.],\n",
       "        [1., 1., 1.]], device='mps:0')"
      ]
     },
     "execution_count": 44,
     "metadata": {},
     "output_type": "execute_result"
    }
   ],
   "source": [
    "X = torch.ones(2, 3, device=\"mps\")\n",
    "X\n",
    "\n",
    "# tensor([[1., 1., 1.],\n",
    "#         [1., 1., 1.]], device='mps:0')"
   ]
  },
  {
   "cell_type": "code",
   "execution_count": 45,
   "id": "819b98fc",
   "metadata": {},
   "outputs": [
    {
     "data": {
      "text/plain": [
       "tensor([[0.0355, 0.8498, 0.8251],\n",
       "        [0.8005, 0.7753, 0.0666]])"
      ]
     },
     "execution_count": 45,
     "metadata": {},
     "output_type": "execute_result"
    }
   ],
   "source": [
    "Y = torch.rand(2, 3, device=try_gpu(1))\n",
    "Y\n",
    "\n",
    "# tensor([[0.0355, 0.8498, 0.8251],\n",
    "#         [0.8005, 0.7753, 0.0666]])"
   ]
  },
  {
   "cell_type": "code",
   "execution_count": 47,
   "id": "0479f890",
   "metadata": {},
   "outputs": [],
   "source": [
    "net = nn.Sequential(nn.Linear(3, 1))\n",
    "net = net.to(device=\"mps\")"
   ]
  },
  {
   "cell_type": "code",
   "execution_count": 48,
   "id": "329ce54d",
   "metadata": {},
   "outputs": [
    {
     "data": {
      "text/plain": [
       "tensor([[0.1147],\n",
       "        [0.1147]], device='mps:0', grad_fn=<LinearBackward0>)"
      ]
     },
     "execution_count": 48,
     "metadata": {},
     "output_type": "execute_result"
    }
   ],
   "source": [
    "X = torch.ones(2, 3, device=\"mps\")\n",
    "net(X)\n",
    "\n",
    "# tensor([[0.1147],\n",
    "#         [0.1147]], device='mps:0', grad_fn=<LinearBackward0>)"
   ]
  },
  {
   "cell_type": "code",
   "execution_count": 49,
   "id": "0dcbebc5",
   "metadata": {},
   "outputs": [
    {
     "data": {
      "text/plain": [
       "device(type='mps', index=0)"
      ]
     },
     "execution_count": 49,
     "metadata": {},
     "output_type": "execute_result"
    }
   ],
   "source": [
    "net[0].weight.data.device\n",
    "\n",
    "# net[0].weight.data.device"
   ]
  },
  {
   "cell_type": "code",
   "execution_count": null,
   "id": "440398b9",
   "metadata": {},
   "outputs": [],
   "source": []
  }
 ],
 "metadata": {
  "kernelspec": {
   "display_name": "Python 3",
   "language": "python",
   "name": "python3"
  },
  "language_info": {
   "codemirror_mode": {
    "name": "ipython",
    "version": 3
   },
   "file_extension": ".py",
   "mimetype": "text/x-python",
   "name": "python",
   "nbconvert_exporter": "python",
   "pygments_lexer": "ipython3",
   "version": "3.11.4"
  }
 },
 "nbformat": 4,
 "nbformat_minor": 5
}
