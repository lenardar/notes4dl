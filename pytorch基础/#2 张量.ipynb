{
 "cells": [
  {
   "cell_type": "markdown",
   "id": "eba9d755",
   "metadata": {},
   "source": [
    "学习张量。"
   ]
  },
  {
   "cell_type": "markdown",
   "id": "bec61be5",
   "metadata": {},
   "source": [
    "# 初始化张量"
   ]
  },
  {
   "cell_type": "code",
   "execution_count": 1,
   "id": "03b05239",
   "metadata": {},
   "outputs": [],
   "source": [
    "import torch\n",
    "import numpy as np"
   ]
  },
  {
   "cell_type": "code",
   "execution_count": 2,
   "id": "3ed4deb7",
   "metadata": {},
   "outputs": [],
   "source": [
    "data = [[1, 2],[3, 4]]\n",
    "x_data = torch.tensor(data)"
   ]
  },
  {
   "cell_type": "code",
   "execution_count": 4,
   "id": "2b03e341",
   "metadata": {},
   "outputs": [],
   "source": [
    "np_array = np.array(data)\n",
    "x_np = torch.from_numpy(np_array)"
   ]
  },
  {
   "cell_type": "code",
   "execution_count": 7,
   "id": "d1255748",
   "metadata": {},
   "outputs": [
    {
     "name": "stdout",
     "output_type": "stream",
     "text": [
      "Random Tensor: \n",
      " tensor([[0.0230, 0.2060, 0.3506],\n",
      "        [0.2656, 0.7353, 0.0333]]) \n",
      "\n",
      "Ones Tensor: \n",
      " tensor([[1., 1., 1.],\n",
      "        [1., 1., 1.]]) \n",
      "\n",
      "Zeros Tensor: \n",
      " tensor([[0., 0., 0.],\n",
      "        [0., 0., 0.]])\n"
     ]
    }
   ],
   "source": [
    "shape = (2,3,)\n",
    "rand_tensor = torch.rand(shape)\n",
    "ones_tensor = torch.ones(shape)\n",
    "zeros_tensor = torch.zeros(shape)\n",
    "\n",
    "print(f\"Random Tensor: \\n {rand_tensor} \\n\")\n",
    "print(f\"Ones Tensor: \\n {ones_tensor} \\n\")\n",
    "print(f\"Zeros Tensor: \\n {zeros_tensor}\")"
   ]
  },
  {
   "cell_type": "markdown",
   "id": "c5fc5c12",
   "metadata": {},
   "source": [
    "# 张量属性"
   ]
  },
  {
   "cell_type": "code",
   "execution_count": null,
   "id": "e8498304",
   "metadata": {},
   "outputs": [
    {
     "name": "stdout",
     "output_type": "stream",
     "text": [
      "Shape of tensor: torch.Size([3, 4])\n",
      "Datatype of tensor: torch.float32\n",
      "Device tensor is stored on: cpu\n"
     ]
    }
   ],
   "source": [
    "tensor = torch.rand(3,4)\n",
    "\n",
    "print(f\"Shape of tensor: {tensor.shape}\")\n",
    "print(f\"Datatype of tensor: {tensor.dtype}\")\n",
    "print(f\"Device tensor is stored on: {tensor.device}\")\n",
    "\n",
    "# Shape of tensor: torch.Size([3, 4])\n",
    "# Datatype of tensor: torch.float32\n",
    "# Device tensor is stored on: cpu"
   ]
  },
  {
   "cell_type": "code",
   "execution_count": 9,
   "id": "a252d123",
   "metadata": {},
   "outputs": [
    {
     "name": "stdout",
     "output_type": "stream",
     "text": [
      "Moving tensor to the current accelerator...\n"
     ]
    }
   ],
   "source": [
    "# We move our tensor to the current accelerator if available\n",
    "if torch.accelerator.is_available():\n",
    "    print(\"Moving tensor to the current accelerator...\")\n",
    "    tensor = tensor.to(torch.accelerator.current_accelerator())"
   ]
  },
  {
   "cell_type": "markdown",
   "id": "53fc8b4f",
   "metadata": {},
   "source": [
    "# 张量操作"
   ]
  },
  {
   "cell_type": "code",
   "execution_count": null,
   "id": "edec2783",
   "metadata": {},
   "outputs": [
    {
     "name": "stdout",
     "output_type": "stream",
     "text": [
      "First row: tensor([1., 1., 1., 1.])\n",
      "First column: tensor([1., 1., 1., 1.])\n",
      "Last column: tensor([1., 1., 1., 1.])\n",
      "tensor([[1., 0., 1., 1.],\n",
      "        [1., 0., 1., 1.],\n",
      "        [1., 0., 1., 1.],\n",
      "        [1., 0., 1., 1.]])\n"
     ]
    }
   ],
   "source": [
    "tensor = torch.ones(4, 4)\n",
    "print(f\"First row: {tensor[0]}\")\n",
    "print(f\"First column: {tensor[:, 0]}\")\n",
    "print(f\"Last column: {tensor[..., -1]}\")\n",
    "tensor[:,1] = 0\n",
    "print(tensor)\n",
    "\n",
    "# First row: tensor([1., 1., 1., 1.])\n",
    "# First column: tensor([1., 1., 1., 1.])\n",
    "# Last column: tensor([1., 1., 1., 1.])\n",
    "# tensor([[1., 0., 1., 1.],\n",
    "#         [1., 0., 1., 1.],\n",
    "#         [1., 0., 1., 1.],\n",
    "#         [1., 0., 1., 1.]])"
   ]
  },
  {
   "cell_type": "code",
   "execution_count": null,
   "id": "1800e0aa",
   "metadata": {},
   "outputs": [
    {
     "name": "stdout",
     "output_type": "stream",
     "text": [
      "tensor([[1., 0., 1., 1., 1., 0., 1., 1., 1., 0., 1., 1.],\n",
      "        [1., 0., 1., 1., 1., 0., 1., 1., 1., 0., 1., 1.],\n",
      "        [1., 0., 1., 1., 1., 0., 1., 1., 1., 0., 1., 1.],\n",
      "        [1., 0., 1., 1., 1., 0., 1., 1., 1., 0., 1., 1.]])\n"
     ]
    }
   ],
   "source": [
    "t1 = torch.cat([tensor, tensor, tensor], dim=1)\n",
    "print(t1)\n",
    "\n",
    "# tensor([[1., 0., 1., 1., 1., 0., 1., 1., 1., 0., 1., 1.],\n",
    "#         [1., 0., 1., 1., 1., 0., 1., 1., 1., 0., 1., 1.],\n",
    "#         [1., 0., 1., 1., 1., 0., 1., 1., 1., 0., 1., 1.],\n",
    "#         [1., 0., 1., 1., 1., 0., 1., 1., 1., 0., 1., 1.]])"
   ]
  },
  {
   "cell_type": "code",
   "execution_count": null,
   "id": "6a2b0b06",
   "metadata": {},
   "outputs": [
    {
     "data": {
      "text/plain": [
       "tensor([[1., 0., 1., 1.],\n",
       "        [1., 0., 1., 1.],\n",
       "        [1., 0., 1., 1.],\n",
       "        [1., 0., 1., 1.]])"
      ]
     },
     "execution_count": 12,
     "metadata": {},
     "output_type": "execute_result"
    }
   ],
   "source": [
    "# This computes the matrix multiplication between two tensors. y1, y2, y3 will have the same value\n",
    "# ``tensor.T`` returns the transpose of a tensor\n",
    "y1 = tensor @ tensor.T\n",
    "y2 = tensor.matmul(tensor.T)\n",
    "\n",
    "y3 = torch.rand_like(y1)\n",
    "torch.matmul(tensor, tensor.T, out=y3)\n",
    "\n",
    "\n",
    "# This computes the element-wise product. z1, z2, z3 will have the same value\n",
    "z1 = tensor * tensor\n",
    "z2 = tensor.mul(tensor)\n",
    "\n",
    "z3 = torch.rand_like(tensor)\n",
    "torch.mul(tensor, tensor, out=z3)\n",
    "\n",
    "# tensor([[1., 0., 1., 1.],\n",
    "#         [1., 0., 1., 1.],\n",
    "#         [1., 0., 1., 1.],\n",
    "#         [1., 0., 1., 1.]])"
   ]
  },
  {
   "cell_type": "code",
   "execution_count": null,
   "id": "c210ccb1",
   "metadata": {},
   "outputs": [
    {
     "name": "stdout",
     "output_type": "stream",
     "text": [
      "12.0 <class 'float'>\n"
     ]
    }
   ],
   "source": [
    "agg = tensor.sum()\n",
    "agg_item = agg.item()\n",
    "print(agg_item, type(agg_item))\n",
    "\n",
    "# 12.0 <class 'float'>"
   ]
  },
  {
   "cell_type": "code",
   "execution_count": null,
   "id": "23ccf1de",
   "metadata": {},
   "outputs": [
    {
     "name": "stdout",
     "output_type": "stream",
     "text": [
      "tensor([[1., 0., 1., 1.],\n",
      "        [1., 0., 1., 1.],\n",
      "        [1., 0., 1., 1.],\n",
      "        [1., 0., 1., 1.]]) \n",
      "\n",
      "tensor([[6., 5., 6., 6.],\n",
      "        [6., 5., 6., 6.],\n",
      "        [6., 5., 6., 6.],\n",
      "        [6., 5., 6., 6.]])\n"
     ]
    }
   ],
   "source": [
    "print(f\"{tensor} \\n\")\n",
    "tensor.add_(5)\n",
    "print(tensor)\n",
    "\n",
    "# tensor([[1., 0., 1., 1.],\n",
    "#         [1., 0., 1., 1.],\n",
    "#         [1., 0., 1., 1.],\n",
    "#         [1., 0., 1., 1.]]) \n",
    "\n",
    "# tensor([[6., 5., 6., 6.],\n",
    "#         [6., 5., 6., 6.],\n",
    "#         [6., 5., 6., 6.],\n",
    "#         [6., 5., 6., 6.]])"
   ]
  },
  {
   "cell_type": "markdown",
   "id": "129c79aa",
   "metadata": {},
   "source": [
    "# numpy桥接"
   ]
  },
  {
   "cell_type": "code",
   "execution_count": null,
   "id": "88a4774f",
   "metadata": {},
   "outputs": [
    {
     "name": "stdout",
     "output_type": "stream",
     "text": [
      "t: tensor([1., 1., 1., 1., 1.])\n",
      "n: [1. 1. 1. 1. 1.]\n"
     ]
    }
   ],
   "source": [
    "t = torch.ones(5)\n",
    "print(f\"t: {t}\")\n",
    "n = t.numpy()\n",
    "print(f\"n: {n}\")\n",
    "\n",
    "# t: tensor([1., 1., 1., 1., 1.])\n",
    "# n: [1. 1. 1. 1. 1.]"
   ]
  },
  {
   "cell_type": "code",
   "execution_count": null,
   "id": "548bac87",
   "metadata": {},
   "outputs": [
    {
     "name": "stdout",
     "output_type": "stream",
     "text": [
      "t: tensor([2., 2., 2., 2., 2.])\n",
      "n: [2. 2. 2. 2. 2.]\n"
     ]
    }
   ],
   "source": [
    "t.add_(1)\n",
    "print(f\"t: {t}\")\n",
    "print(f\"n: {n}\")\n",
    "\n",
    "# t: tensor([2., 2., 2., 2., 2.])\n",
    "# n: [2. 2. 2. 2. 2.]"
   ]
  },
  {
   "cell_type": "code",
   "execution_count": 17,
   "id": "2f9af4fe",
   "metadata": {},
   "outputs": [],
   "source": [
    "n = np.ones(5)\n",
    "t = torch.from_numpy(n)"
   ]
  },
  {
   "cell_type": "code",
   "execution_count": null,
   "id": "f194b39c",
   "metadata": {},
   "outputs": [
    {
     "name": "stdout",
     "output_type": "stream",
     "text": [
      "t: tensor([2., 2., 2., 2., 2.], dtype=torch.float64)\n",
      "n: [2. 2. 2. 2. 2.]\n"
     ]
    }
   ],
   "source": [
    "np.add(n, 1, out=n)\n",
    "print(f\"t: {t}\")\n",
    "print(f\"n: {n}\")\n",
    "\n",
    "# t: tensor([2., 2., 2., 2., 2.], dtype=torch.float64)\n",
    "# n: [2. 2. 2. 2. 2.]"
   ]
  },
  {
   "cell_type": "code",
   "execution_count": null,
   "id": "5ebfd7cf",
   "metadata": {},
   "outputs": [],
   "source": []
  }
 ],
 "metadata": {
  "kernelspec": {
   "display_name": "Python 3",
   "language": "python",
   "name": "python3"
  },
  "language_info": {
   "codemirror_mode": {
    "name": "ipython",
    "version": 3
   },
   "file_extension": ".py",
   "mimetype": "text/x-python",
   "name": "python",
   "nbconvert_exporter": "python",
   "pygments_lexer": "ipython3",
   "version": "3.11.4"
  }
 },
 "nbformat": 4,
 "nbformat_minor": 5
}
