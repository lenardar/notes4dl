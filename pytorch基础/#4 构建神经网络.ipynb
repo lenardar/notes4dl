{
 "cells": [
  {
   "cell_type": "code",
   "execution_count": 1,
   "id": "dcabc74d",
   "metadata": {},
   "outputs": [],
   "source": [
    "import os\n",
    "import torch\n",
    "from torch import nn\n",
    "from torch.utils.data import DataLoader\n",
    "from torchvision import datasets, transforms"
   ]
  },
  {
   "cell_type": "markdown",
   "id": "42441450",
   "metadata": {},
   "source": [
    "# 获取用于训练的设备\n"
   ]
  },
  {
   "cell_type": "code",
   "execution_count": null,
   "id": "86acf103",
   "metadata": {},
   "outputs": [
    {
     "name": "stdout",
     "output_type": "stream",
     "text": [
      "Using mps device\n"
     ]
    }
   ],
   "source": [
    "device = torch.accelerator.current_accelerator().type if torch.accelerator.is_available() else \"cpu\"\n",
    "print(f\"Using {device} device\")\n",
    "\n",
    "# Using mps device"
   ]
  },
  {
   "cell_type": "markdown",
   "id": "399c22b9",
   "metadata": {},
   "source": [
    "# 定义类\n",
    "\n"
   ]
  },
  {
   "cell_type": "code",
   "execution_count": 3,
   "id": "a1bbed13",
   "metadata": {},
   "outputs": [],
   "source": [
    "class NeuralNetwork(nn.Module):\n",
    "    def __init__(self):\n",
    "        super().__init__()\n",
    "        self.flatten = nn.Flatten()\n",
    "        self.linear_relu_stack = nn.Sequential(\n",
    "            nn.Linear(28*28, 512),\n",
    "            nn.ReLU(),\n",
    "            nn.Linear(512, 512),\n",
    "            nn.ReLU(),\n",
    "            nn.Linear(512, 10),\n",
    "        )\n",
    "\n",
    "    def forward(self, x):\n",
    "        x = self.flatten(x)\n",
    "        logits = self.linear_relu_stack(x)\n",
    "        return logits"
   ]
  },
  {
   "cell_type": "code",
   "execution_count": 4,
   "id": "684e5474",
   "metadata": {},
   "outputs": [
    {
     "name": "stdout",
     "output_type": "stream",
     "text": [
      "NeuralNetwork(\n",
      "  (flatten): Flatten(start_dim=1, end_dim=-1)\n",
      "  (linear_relu_stack): Sequential(\n",
      "    (0): Linear(in_features=784, out_features=512, bias=True)\n",
      "    (1): ReLU()\n",
      "    (2): Linear(in_features=512, out_features=512, bias=True)\n",
      "    (3): ReLU()\n",
      "    (4): Linear(in_features=512, out_features=10, bias=True)\n",
      "  )\n",
      ")\n"
     ]
    }
   ],
   "source": [
    "model = NeuralNetwork().to(device)\n",
    "print(model)"
   ]
  },
  {
   "cell_type": "code",
   "execution_count": null,
   "id": "59cede90",
   "metadata": {},
   "outputs": [
    {
     "name": "stdout",
     "output_type": "stream",
     "text": [
      "Predicted class: tensor([4], device='mps:0')\n"
     ]
    }
   ],
   "source": [
    "X = torch.rand(1, 28, 28, device=device)\n",
    "logits = model(X)\n",
    "pred_probab = nn.Softmax(dim=1)(logits)\n",
    "y_pred = pred_probab.argmax(1)\n",
    "print(f\"Predicted class: {y_pred}\")\n",
    "\n",
    "# Predicted class: tensor([4], device='mps:0')"
   ]
  },
  {
   "cell_type": "markdown",
   "id": "570a603f",
   "metadata": {},
   "source": [
    "# 模型层"
   ]
  },
  {
   "cell_type": "code",
   "execution_count": null,
   "id": "082b5d9b",
   "metadata": {},
   "outputs": [
    {
     "name": "stdout",
     "output_type": "stream",
     "text": [
      "torch.Size([3, 28, 28])\n"
     ]
    }
   ],
   "source": [
    "input_image = torch.rand(3,28,28)\n",
    "print(input_image.size())\n",
    "\n",
    "# torch.Size([3, 28, 28])"
   ]
  },
  {
   "cell_type": "code",
   "execution_count": null,
   "id": "0be64b80",
   "metadata": {},
   "outputs": [
    {
     "name": "stdout",
     "output_type": "stream",
     "text": [
      "torch.Size([3, 784])\n"
     ]
    }
   ],
   "source": [
    "flatten = nn.Flatten()\n",
    "flat_image = flatten(input_image)\n",
    "print(flat_image.size())\n",
    "\n",
    "# torch.Size([3, 784])"
   ]
  },
  {
   "cell_type": "code",
   "execution_count": null,
   "id": "30926d3c",
   "metadata": {},
   "outputs": [
    {
     "name": "stdout",
     "output_type": "stream",
     "text": [
      "torch.Size([3, 20])\n"
     ]
    }
   ],
   "source": [
    "layer1 = nn.Linear(in_features=28*28, out_features=20)\n",
    "hidden1 = layer1(flat_image)\n",
    "print(hidden1.size())\n",
    "\n",
    "torch.Size([3, 20])"
   ]
  },
  {
   "cell_type": "code",
   "execution_count": null,
   "id": "beb1fbe9",
   "metadata": {},
   "outputs": [
    {
     "name": "stdout",
     "output_type": "stream",
     "text": [
      "Before ReLU: tensor([[-0.2750,  0.0219,  0.4265, -0.5464, -0.2045, -0.1198,  0.1805,  0.2331,\n",
      "         -0.2655, -0.0655,  0.2856, -0.0484, -0.1712, -0.6602,  0.1934,  0.2985,\n",
      "          0.3039,  0.2103,  0.1021,  0.1862],\n",
      "        [-0.3436,  0.0515,  0.2196, -0.2769, -0.1754, -0.3151,  0.0102,  0.4506,\n",
      "         -0.1175, -0.3239,  0.0853,  0.1989, -0.5015, -0.3833,  0.1431,  0.3611,\n",
      "          0.1685,  0.2525,  0.0260, -0.2550],\n",
      "        [ 0.1245, -0.4134,  0.2983, -0.3555, -0.2834, -0.0842,  0.2245,  0.2271,\n",
      "         -0.1193, -0.0702,  0.1252, -0.0372, -0.2472, -0.2332, -0.1958,  0.1953,\n",
      "          0.0516,  0.6281,  0.3413,  0.0997]], grad_fn=<AddmmBackward0>)\n",
      "\n",
      "\n",
      "After ReLU: tensor([[0.0000, 0.0219, 0.4265, 0.0000, 0.0000, 0.0000, 0.1805, 0.2331, 0.0000,\n",
      "         0.0000, 0.2856, 0.0000, 0.0000, 0.0000, 0.1934, 0.2985, 0.3039, 0.2103,\n",
      "         0.1021, 0.1862],\n",
      "        [0.0000, 0.0515, 0.2196, 0.0000, 0.0000, 0.0000, 0.0102, 0.4506, 0.0000,\n",
      "         0.0000, 0.0853, 0.1989, 0.0000, 0.0000, 0.1431, 0.3611, 0.1685, 0.2525,\n",
      "         0.0260, 0.0000],\n",
      "        [0.1245, 0.0000, 0.2983, 0.0000, 0.0000, 0.0000, 0.2245, 0.2271, 0.0000,\n",
      "         0.0000, 0.1252, 0.0000, 0.0000, 0.0000, 0.0000, 0.1953, 0.0516, 0.6281,\n",
      "         0.3413, 0.0997]], grad_fn=<ReluBackward0>)\n"
     ]
    }
   ],
   "source": [
    "print(f\"Before ReLU: {hidden1}\\n\\n\")\n",
    "hidden1 = nn.ReLU()(hidden1)\n",
    "print(f\"After ReLU: {hidden1}\")\n",
    "\n",
    "# Before ReLU: tensor([[-0.2750,  0.0219,  0.4265, -0.5464, -0.2045, -0.1198,  0.1805,  0.2331,\n",
    "#          -0.2655, -0.0655,  0.2856, -0.0484, -0.1712, -0.6602,  0.1934,  0.2985,\n",
    "#           0.3039,  0.2103,  0.1021,  0.1862],\n",
    "#         [-0.3436,  0.0515,  0.2196, -0.2769, -0.1754, -0.3151,  0.0102,  0.4506,\n",
    "#          -0.1175, -0.3239,  0.0853,  0.1989, -0.5015, -0.3833,  0.1431,  0.3611,\n",
    "#           0.1685,  0.2525,  0.0260, -0.2550],\n",
    "#         [ 0.1245, -0.4134,  0.2983, -0.3555, -0.2834, -0.0842,  0.2245,  0.2271,\n",
    "#          -0.1193, -0.0702,  0.1252, -0.0372, -0.2472, -0.2332, -0.1958,  0.1953,\n",
    "#           0.0516,  0.6281,  0.3413,  0.0997]], grad_fn=<AddmmBackward0>)\n",
    "\n",
    "\n",
    "# After ReLU: tensor([[0.0000, 0.0219, 0.4265, 0.0000, 0.0000, 0.0000, 0.1805, 0.2331, 0.0000,\n",
    "#          0.0000, 0.2856, 0.0000, 0.0000, 0.0000, 0.1934, 0.2985, 0.3039, 0.2103,\n",
    "#          0.1021, 0.1862],\n",
    "#         [0.0000, 0.0515, 0.2196, 0.0000, 0.0000, 0.0000, 0.0102, 0.4506, 0.0000,\n",
    "#          0.0000, 0.0853, 0.1989, 0.0000, 0.0000, 0.1431, 0.3611, 0.1685, 0.2525,\n",
    "#          0.0260, 0.0000],\n",
    "#         [0.1245, 0.0000, 0.2983, 0.0000, 0.0000, 0.0000, 0.2245, 0.2271, 0.0000,\n",
    "#          0.0000, 0.1252, 0.0000, 0.0000, 0.0000, 0.0000, 0.1953, 0.0516, 0.6281,\n",
    "#          0.3413, 0.0997]], grad_fn=<ReluBackward0>)"
   ]
  },
  {
   "cell_type": "code",
   "execution_count": 10,
   "id": "9e486989",
   "metadata": {},
   "outputs": [],
   "source": [
    "seq_modules = nn.Sequential(\n",
    "    flatten,\n",
    "    layer1,\n",
    "    nn.ReLU(),\n",
    "    nn.Linear(20, 10)\n",
    ")\n",
    "input_image = torch.rand(3,28,28)\n",
    "logits = seq_modules(input_image)"
   ]
  },
  {
   "cell_type": "code",
   "execution_count": 11,
   "id": "6c6b9424",
   "metadata": {},
   "outputs": [],
   "source": [
    "softmax = nn.Softmax(dim=1)\n",
    "pred_probab = softmax(logits)"
   ]
  },
  {
   "cell_type": "code",
   "execution_count": 12,
   "id": "4eca77b4",
   "metadata": {},
   "outputs": [
    {
     "name": "stdout",
     "output_type": "stream",
     "text": [
      "Model structure: NeuralNetwork(\n",
      "  (flatten): Flatten(start_dim=1, end_dim=-1)\n",
      "  (linear_relu_stack): Sequential(\n",
      "    (0): Linear(in_features=784, out_features=512, bias=True)\n",
      "    (1): ReLU()\n",
      "    (2): Linear(in_features=512, out_features=512, bias=True)\n",
      "    (3): ReLU()\n",
      "    (4): Linear(in_features=512, out_features=10, bias=True)\n",
      "  )\n",
      ")\n",
      "\n",
      "\n",
      "Layer: linear_relu_stack.0.weight | Size: torch.Size([512, 784]) | Values : tensor([[-0.0300, -0.0115, -0.0292,  ..., -0.0296,  0.0173, -0.0185],\n",
      "        [-0.0161,  0.0306,  0.0221,  ..., -0.0305,  0.0101,  0.0004]],\n",
      "       device='mps:0', grad_fn=<SliceBackward0>) \n",
      "\n",
      "Layer: linear_relu_stack.0.bias | Size: torch.Size([512]) | Values : tensor([-0.0230,  0.0354], device='mps:0', grad_fn=<SliceBackward0>) \n",
      "\n",
      "Layer: linear_relu_stack.2.weight | Size: torch.Size([512, 512]) | Values : tensor([[-0.0303,  0.0070,  0.0317,  ..., -0.0248,  0.0074,  0.0341],\n",
      "        [-0.0217, -0.0146, -0.0309,  ..., -0.0409,  0.0345,  0.0076]],\n",
      "       device='mps:0', grad_fn=<SliceBackward0>) \n",
      "\n",
      "Layer: linear_relu_stack.2.bias | Size: torch.Size([512]) | Values : tensor([ 0.0393, -0.0354], device='mps:0', grad_fn=<SliceBackward0>) \n",
      "\n",
      "Layer: linear_relu_stack.4.weight | Size: torch.Size([10, 512]) | Values : tensor([[ 0.0330,  0.0312, -0.0319,  ...,  0.0338, -0.0414, -0.0239],\n",
      "        [-0.0254, -0.0024,  0.0385,  ..., -0.0088, -0.0065,  0.0013]],\n",
      "       device='mps:0', grad_fn=<SliceBackward0>) \n",
      "\n",
      "Layer: linear_relu_stack.4.bias | Size: torch.Size([10]) | Values : tensor([ 0.0041, -0.0368], device='mps:0', grad_fn=<SliceBackward0>) \n",
      "\n"
     ]
    }
   ],
   "source": [
    "print(f\"Model structure: {model}\\n\\n\")\n",
    "\n",
    "for name, param in model.named_parameters():\n",
    "    print(f\"Layer: {name} | Size: {param.size()} | Values : {param[:2]} \\n\")"
   ]
  },
  {
   "cell_type": "code",
   "execution_count": null,
   "id": "eeb99c93",
   "metadata": {},
   "outputs": [],
   "source": []
  }
 ],
 "metadata": {
  "kernelspec": {
   "display_name": "Python 3",
   "language": "python",
   "name": "python3"
  },
  "language_info": {
   "codemirror_mode": {
    "name": "ipython",
    "version": 3
   },
   "file_extension": ".py",
   "mimetype": "text/x-python",
   "name": "python",
   "nbconvert_exporter": "python",
   "pygments_lexer": "ipython3",
   "version": "3.11.4"
  }
 },
 "nbformat": 4,
 "nbformat_minor": 5
}
