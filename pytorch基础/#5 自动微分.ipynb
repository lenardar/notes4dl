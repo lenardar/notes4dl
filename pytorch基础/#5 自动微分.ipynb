{
 "cells": [
  {
   "cell_type": "markdown",
   "id": "cb724ce2",
   "metadata": {},
   "source": [
    "# 张量、函数与计算图\n"
   ]
  },
  {
   "cell_type": "code",
   "execution_count": 14,
   "id": "065cc893",
   "metadata": {},
   "outputs": [],
   "source": [
    "import torch\n",
    "\n",
    "x = torch.ones(5)  # input tensor\n",
    "y = torch.zeros(3)  # expected output\n",
    "w = torch.randn(5, 3, requires_grad=True)\n",
    "b = torch.randn(3, requires_grad=True)\n",
    "z = torch.matmul(x, w)+b\n",
    "loss = torch.nn.functional.binary_cross_entropy_with_logits(z, y)"
   ]
  },
  {
   "cell_type": "code",
   "execution_count": 15,
   "id": "e6870266",
   "metadata": {},
   "outputs": [
    {
     "name": "stdout",
     "output_type": "stream",
     "text": [
      "Gradient function for z = <AddBackward0 object at 0x16a2a3fa0>\n",
      "Gradient function for loss = <BinaryCrossEntropyWithLogitsBackward0 object at 0x16a2a3d90>\n"
     ]
    }
   ],
   "source": [
    "print(f\"Gradient function for z = {z.grad_fn}\")\n",
    "print(f\"Gradient function for loss = {loss.grad_fn}\")\n",
    "\n",
    "# Gradient function for z = <AddBackward0 object at 0x109db3f10>\n",
    "# Gradient function for loss = <BinaryCrossEntropyWithLogitsBackward0 object at 0x109d37e50>"
   ]
  },
  {
   "cell_type": "markdown",
   "id": "a9fefa3f",
   "metadata": {},
   "source": [
    "# 计算梯度"
   ]
  },
  {
   "cell_type": "code",
   "execution_count": null,
   "id": "645fad0b",
   "metadata": {},
   "outputs": [
    {
     "name": "stdout",
     "output_type": "stream",
     "text": [
      "tensor([[0.0032, 0.0023, 0.1093],\n",
      "        [0.0032, 0.0023, 0.1093],\n",
      "        [0.0032, 0.0023, 0.1093],\n",
      "        [0.0032, 0.0023, 0.1093],\n",
      "        [0.0032, 0.0023, 0.1093]])\n",
      "tensor([0.0032, 0.0023, 0.1093])\n"
     ]
    }
   ],
   "source": [
    "loss.backward()\n",
    "print(w.grad)\n",
    "print(b.grad)\n",
    "\n",
    "# tensor([[0.0032, 0.0023, 0.1093],\n",
    "#         [0.0032, 0.0023, 0.1093],\n",
    "#         [0.0032, 0.0023, 0.1093],\n",
    "#         [0.0032, 0.0023, 0.1093],\n",
    "#         [0.0032, 0.0023, 0.1093]])\n",
    "# tensor([0.0032, 0.0023, 0.1093])"
   ]
  },
  {
   "cell_type": "markdown",
   "id": "a89fa970",
   "metadata": {},
   "source": [
    "# 禁用梯度"
   ]
  },
  {
   "cell_type": "code",
   "execution_count": null,
   "id": "cf7e6060",
   "metadata": {},
   "outputs": [
    {
     "name": "stdout",
     "output_type": "stream",
     "text": [
      "True\n",
      "False\n"
     ]
    }
   ],
   "source": [
    "z = torch.matmul(x, w)+b\n",
    "print(z.requires_grad)\n",
    "\n",
    "with torch.no_grad():\n",
    "    z = torch.matmul(x, w)+b\n",
    "print(z.requires_grad)\n",
    "\n",
    "# True\n",
    "# False"
   ]
  },
  {
   "cell_type": "code",
   "execution_count": null,
   "id": "092a84b4",
   "metadata": {},
   "outputs": [
    {
     "name": "stdout",
     "output_type": "stream",
     "text": [
      "False\n"
     ]
    }
   ],
   "source": [
    "z = torch.matmul(x, w)+b\n",
    "z_det = z.detach()\n",
    "print(z_det.requires_grad)\n",
    "\n",
    "# False"
   ]
  },
  {
   "cell_type": "code",
   "execution_count": null,
   "id": "163e3103",
   "metadata": {},
   "outputs": [],
   "source": []
  }
 ],
 "metadata": {
  "kernelspec": {
   "display_name": "Python 3",
   "language": "python",
   "name": "python3"
  },
  "language_info": {
   "codemirror_mode": {
    "name": "ipython",
    "version": 3
   },
   "file_extension": ".py",
   "mimetype": "text/x-python",
   "name": "python",
   "nbconvert_exporter": "python",
   "pygments_lexer": "ipython3",
   "version": "3.11.4"
  }
 },
 "nbformat": 4,
 "nbformat_minor": 5
}
